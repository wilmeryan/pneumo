{
 "cells": [
  {
   "cell_type": "code",
   "execution_count": 9,
   "id": "f5ab3194",
   "metadata": {},
   "outputs": [],
   "source": [
    "%load_ext autoreload\n",
    "%autoreload 2"
   ]
  },
  {
   "cell_type": "code",
   "execution_count": 10,
   "id": "99486a22",
   "metadata": {},
   "outputs": [],
   "source": [
    "from pneumo import dataset\n",
    "from torch.utils.data import DataLoader\n",
    "import os\n",
    "import glob\n",
    "import albumentations as A"
   ]
  },
  {
   "cell_type": "code",
   "execution_count": 3,
   "id": "97862147",
   "metadata": {},
   "outputs": [],
   "source": [
    "IMG_PATH = \"/home/wilmer-linux/Projects/data/pneumo_s1/dicom-images-train/\"\n",
    "LABEL_PATH = os.path.join(IMG_PATH, '../train-rle.csv')\n",
    "\n",
    "fns = glob.glob(os.path.join(IMG_PATH, \"**/*.dcm\"), recursive=True)"
   ]
  },
  {
   "cell_type": "code",
   "execution_count": 4,
   "id": "d1910bb7",
   "metadata": {},
   "outputs": [
    {
     "name": "stdout",
     "output_type": "stream",
     "text": [
      "9671 2418\n"
     ]
    }
   ],
   "source": [
    "from sklearn.model_selection import train_test_split\n",
    "\n",
    "train_fns, valid_fns = train_test_split(fns, train_size=0.8, random_state=42, shuffle=True)\n",
    "print(len(train_fns), len(valid_fns))"
   ]
  },
  {
   "cell_type": "code",
   "execution_count": 5,
   "id": "f1c322ad",
   "metadata": {},
   "outputs": [],
   "source": [
    "config = {\n",
    "    \"lr\" : 1e-3,\n",
    "    \"batch_size\": 4,\n",
    "}"
   ]
  },
  {
   "cell_type": "code",
   "execution_count": 6,
   "id": "b770179c",
   "metadata": {},
   "outputs": [],
   "source": [
    "from albumentations import (\n",
    "    Compose, HorizontalFlip,\n",
    "    RandomBrightness, RandomContrast, RandomGamma,OneOf,\n",
    "    ShiftScaleRotate,GridDistortion, ElasticTransform, JpegCompression, HueSaturationValue,\n",
    "    RandomBrightness, RandomContrast, Blur, MotionBlur, MedianBlur, GaussNoise,CenterCrop,\n",
    "    IAAAdditiveGaussianNoise,GaussNoise,OpticalDistortion,RandomSizedCrop, Resize, RandomBrightnessContrast, ToFloat\n",
    ")\n",
    "\n",
    "IMG_SIZE= (256, 256)\n",
    "\n",
    "VALID_AUGS = Compose([\n",
    "    ToFloat(max_value=1),\n",
    "    Resize(IMG_SIZE[0], IMG_SIZE[1])\n",
    "])"
   ]
  },
  {
   "cell_type": "code",
   "execution_count": 7,
   "id": "a679d54b",
   "metadata": {},
   "outputs": [],
   "source": [
    "valid_ds = dataset.PneumoDataset(LABEL_PATH, valid_fns, transforms=VALID_AUGS)\n",
    "valid_loader = DataLoader(valid_ds, batch_size=config[\"batch_size\"], shuffle=False, num_workers=4, multiprocessing_context='spawn')"
   ]
  },
  {
   "cell_type": "code",
   "execution_count": 20,
   "id": "218536ea",
   "metadata": {
    "scrolled": true
   },
   "outputs": [],
   "source": [
    "from pneumo.models import UNetLightning\n",
    "\n",
    "model_name = \"unet++_effb2_dropout0_mixedlogdiceloss\"\n",
    "ckpt_path = \"/home/wilmer-linux/Projects/code/pneumo/ckpt/\"\n",
    "\n",
    "model = UNetLightning.load_from_checkpoint(os.path.join(ckpt_path, f\"{model_name}.ckpt\")).cuda()"
   ]
  },
  {
   "cell_type": "code",
   "execution_count": 25,
   "id": "e673cdfe",
   "metadata": {},
   "outputs": [
    {
     "data": {
      "application/vnd.jupyter.widget-view+json": {
       "model_id": "88480cda3dd24c12bda87d036eac490b",
       "version_major": 2,
       "version_minor": 0
      },
      "text/plain": [
       "  0%|          | 0/605 [00:00<?, ?it/s]"
      ]
     },
     "metadata": {},
     "output_type": "display_data"
    },
    {
     "name": "stdout",
     "output_type": "stream",
     "text": [
      "threshold: 0.0, dice: 0.38073769211769104\n"
     ]
    },
    {
     "data": {
      "application/vnd.jupyter.widget-view+json": {
       "model_id": "98dde5707ace4c3abf7312f4067eddc2",
       "version_major": 2,
       "version_minor": 0
      },
      "text/plain": [
       "  0%|          | 0/605 [00:00<?, ?it/s]"
      ]
     },
     "metadata": {},
     "output_type": "display_data"
    },
    {
     "name": "stdout",
     "output_type": "stream",
     "text": [
      "threshold: 0.05, dice: 0.3862054646015167\n"
     ]
    },
    {
     "data": {
      "application/vnd.jupyter.widget-view+json": {
       "model_id": "a3c143eba1664e8aa7d5c5ba31e28610",
       "version_major": 2,
       "version_minor": 0
      },
      "text/plain": [
       "  0%|          | 0/605 [00:00<?, ?it/s]"
      ]
     },
     "metadata": {},
     "output_type": "display_data"
    },
    {
     "name": "stdout",
     "output_type": "stream",
     "text": [
      "threshold: 0.1, dice: 0.5286738276481628\n"
     ]
    },
    {
     "data": {
      "application/vnd.jupyter.widget-view+json": {
       "model_id": "3c957ca30e84427291870ec72fae45c7",
       "version_major": 2,
       "version_minor": 0
      },
      "text/plain": [
       "  0%|          | 0/605 [00:00<?, ?it/s]"
      ]
     },
     "metadata": {},
     "output_type": "display_data"
    },
    {
     "name": "stdout",
     "output_type": "stream",
     "text": [
      "threshold: 0.15000000000000002, dice: 0.5609719753265381\n"
     ]
    },
    {
     "data": {
      "application/vnd.jupyter.widget-view+json": {
       "model_id": "2b6b450ff2b74b65a7b22ad0e7aa5425",
       "version_major": 2,
       "version_minor": 0
      },
      "text/plain": [
       "  0%|          | 0/605 [00:00<?, ?it/s]"
      ]
     },
     "metadata": {},
     "output_type": "display_data"
    },
    {
     "name": "stdout",
     "output_type": "stream",
     "text": [
      "threshold: 0.2, dice: 0.5738736987113953\n"
     ]
    },
    {
     "data": {
      "application/vnd.jupyter.widget-view+json": {
       "model_id": "32a19ad9fc184d15ad246ae3851341ce",
       "version_major": 2,
       "version_minor": 0
      },
      "text/plain": [
       "  0%|          | 0/605 [00:00<?, ?it/s]"
      ]
     },
     "metadata": {},
     "output_type": "display_data"
    },
    {
     "name": "stdout",
     "output_type": "stream",
     "text": [
      "threshold: 0.25, dice: 0.5749944448471069\n"
     ]
    },
    {
     "data": {
      "application/vnd.jupyter.widget-view+json": {
       "model_id": "61a943e942154ce5a88394691ea54886",
       "version_major": 2,
       "version_minor": 0
      },
      "text/plain": [
       "  0%|          | 0/605 [00:00<?, ?it/s]"
      ]
     },
     "metadata": {},
     "output_type": "display_data"
    },
    {
     "name": "stdout",
     "output_type": "stream",
     "text": [
      "threshold: 0.30000000000000004, dice: 0.5691628456115723\n"
     ]
    },
    {
     "data": {
      "application/vnd.jupyter.widget-view+json": {
       "model_id": "7ce4da6ac3164090be0b42ee8f61d9b6",
       "version_major": 2,
       "version_minor": 0
      },
      "text/plain": [
       "  0%|          | 0/605 [00:00<?, ?it/s]"
      ]
     },
     "metadata": {},
     "output_type": "display_data"
    },
    {
     "name": "stdout",
     "output_type": "stream",
     "text": [
      "threshold: 0.35000000000000003, dice: 0.5608494281768799\n"
     ]
    },
    {
     "data": {
      "application/vnd.jupyter.widget-view+json": {
       "model_id": "e9e1538667364b64873907395117749a",
       "version_major": 2,
       "version_minor": 0
      },
      "text/plain": [
       "  0%|          | 0/605 [00:00<?, ?it/s]"
      ]
     },
     "metadata": {},
     "output_type": "display_data"
    },
    {
     "name": "stdout",
     "output_type": "stream",
     "text": [
      "threshold: 0.4, dice: 0.5500531792640686\n"
     ]
    },
    {
     "data": {
      "application/vnd.jupyter.widget-view+json": {
       "model_id": "dd8c22ea7ec84af8b08e7448ab8392ff",
       "version_major": 2,
       "version_minor": 0
      },
      "text/plain": [
       "  0%|          | 0/605 [00:00<?, ?it/s]"
      ]
     },
     "metadata": {},
     "output_type": "display_data"
    },
    {
     "name": "stdout",
     "output_type": "stream",
     "text": [
      "threshold: 0.45, dice: 0.5362954139709473\n"
     ]
    },
    {
     "data": {
      "application/vnd.jupyter.widget-view+json": {
       "model_id": "dfc7694fd4164e828647a023db26ca1d",
       "version_major": 2,
       "version_minor": 0
      },
      "text/plain": [
       "  0%|          | 0/605 [00:00<?, ?it/s]"
      ]
     },
     "metadata": {},
     "output_type": "display_data"
    },
    {
     "name": "stdout",
     "output_type": "stream",
     "text": [
      "threshold: 0.5, dice: 0.5233950614929199\n"
     ]
    },
    {
     "data": {
      "application/vnd.jupyter.widget-view+json": {
       "model_id": "1170bfdfb32b4752a39d087a737fd229",
       "version_major": 2,
       "version_minor": 0
      },
      "text/plain": [
       "  0%|          | 0/605 [00:00<?, ?it/s]"
      ]
     },
     "metadata": {},
     "output_type": "display_data"
    },
    {
     "name": "stdout",
     "output_type": "stream",
     "text": [
      "threshold: 0.55, dice: 0.5078408122062683\n"
     ]
    },
    {
     "data": {
      "application/vnd.jupyter.widget-view+json": {
       "model_id": "b3ff5e7b9d0e486ea0a0882827f43178",
       "version_major": 2,
       "version_minor": 0
      },
      "text/plain": [
       "  0%|          | 0/605 [00:00<?, ?it/s]"
      ]
     },
     "metadata": {},
     "output_type": "display_data"
    },
    {
     "name": "stdout",
     "output_type": "stream",
     "text": [
      "threshold: 0.6000000000000001, dice: 0.3799062669277191\n"
     ]
    },
    {
     "data": {
      "application/vnd.jupyter.widget-view+json": {
       "model_id": "38308b66a04b41519b46ee0951d988fc",
       "version_major": 2,
       "version_minor": 0
      },
      "text/plain": [
       "  0%|          | 0/605 [00:00<?, ?it/s]"
      ]
     },
     "metadata": {},
     "output_type": "display_data"
    },
    {
     "name": "stdout",
     "output_type": "stream",
     "text": [
      "threshold: 0.65, dice: 0.37633073329925537\n"
     ]
    },
    {
     "data": {
      "application/vnd.jupyter.widget-view+json": {
       "model_id": "b96dfb05d34e4679a1c9dcf43e4b1626",
       "version_major": 2,
       "version_minor": 0
      },
      "text/plain": [
       "  0%|          | 0/605 [00:00<?, ?it/s]"
      ]
     },
     "metadata": {},
     "output_type": "display_data"
    },
    {
     "name": "stdout",
     "output_type": "stream",
     "text": [
      "threshold: 0.7000000000000001, dice: 0.37543031573295593\n"
     ]
    },
    {
     "data": {
      "application/vnd.jupyter.widget-view+json": {
       "model_id": "eb96f94db99143839a90f3e0b7c8fef7",
       "version_major": 2,
       "version_minor": 0
      },
      "text/plain": [
       "  0%|          | 0/605 [00:00<?, ?it/s]"
      ]
     },
     "metadata": {},
     "output_type": "display_data"
    },
    {
     "name": "stdout",
     "output_type": "stream",
     "text": [
      "threshold: 0.75, dice: 0.3752176761627197\n"
     ]
    },
    {
     "data": {
      "application/vnd.jupyter.widget-view+json": {
       "model_id": "bb912131bc714c3c9fa11d37e92c2174",
       "version_major": 2,
       "version_minor": 0
      },
      "text/plain": [
       "  0%|          | 0/605 [00:00<?, ?it/s]"
      ]
     },
     "metadata": {},
     "output_type": "display_data"
    },
    {
     "name": "stdout",
     "output_type": "stream",
     "text": [
      "threshold: 0.8, dice: 0.3752066195011139\n"
     ]
    },
    {
     "data": {
      "application/vnd.jupyter.widget-view+json": {
       "model_id": "87ee77a9d4514feeb61c4aadb8eacaa8",
       "version_major": 2,
       "version_minor": 0
      },
      "text/plain": [
       "  0%|          | 0/605 [00:00<?, ?it/s]"
      ]
     },
     "metadata": {},
     "output_type": "display_data"
    },
    {
     "name": "stdout",
     "output_type": "stream",
     "text": [
      "threshold: 0.8500000000000001, dice: 0.3752066195011139\n"
     ]
    },
    {
     "data": {
      "application/vnd.jupyter.widget-view+json": {
       "model_id": "d8c6d8ea630b4be5af2aaa32794392df",
       "version_major": 2,
       "version_minor": 0
      },
      "text/plain": [
       "  0%|          | 0/605 [00:00<?, ?it/s]"
      ]
     },
     "metadata": {},
     "output_type": "display_data"
    },
    {
     "ename": "KeyboardInterrupt",
     "evalue": "",
     "output_type": "error",
     "traceback": [
      "\u001b[0;31m---------------------------------------------------------------------------\u001b[0m",
      "\u001b[0;31mKeyboardInterrupt\u001b[0m                         Traceback (most recent call last)",
      "\u001b[0;32m/tmp/ipykernel_11177/4114121313.py\u001b[0m in \u001b[0;36m<module>\u001b[0;34m\u001b[0m\n\u001b[1;32m     10\u001b[0m     \u001b[0;32mfor\u001b[0m \u001b[0mbatch\u001b[0m \u001b[0;32min\u001b[0m \u001b[0mtqdm\u001b[0m\u001b[0;34m(\u001b[0m\u001b[0mvalid_loader\u001b[0m\u001b[0;34m)\u001b[0m\u001b[0;34m:\u001b[0m\u001b[0;34m\u001b[0m\u001b[0;34m\u001b[0m\u001b[0m\n\u001b[1;32m     11\u001b[0m         \u001b[0mcount\u001b[0m\u001b[0;34m+=\u001b[0m\u001b[0;36m1\u001b[0m\u001b[0;34m\u001b[0m\u001b[0;34m\u001b[0m\u001b[0m\n\u001b[0;32m---> 12\u001b[0;31m         \u001b[0mtotal\u001b[0m \u001b[0;34m+=\u001b[0m\u001b[0mdice_coeff\u001b[0m\u001b[0;34m(\u001b[0m\u001b[0mmodel\u001b[0m\u001b[0;34m(\u001b[0m\u001b[0mbatch\u001b[0m\u001b[0;34m[\u001b[0m\u001b[0;34m'img'\u001b[0m\u001b[0;34m]\u001b[0m\u001b[0;34m.\u001b[0m\u001b[0mfloat\u001b[0m\u001b[0;34m(\u001b[0m\u001b[0;34m)\u001b[0m\u001b[0;34m)\u001b[0m\u001b[0;34m,\u001b[0m \u001b[0mbatch\u001b[0m\u001b[0;34m[\u001b[0m\u001b[0;34m\"target\"\u001b[0m\u001b[0;34m]\u001b[0m\u001b[0;34m.\u001b[0m\u001b[0mfloat\u001b[0m\u001b[0;34m(\u001b[0m\u001b[0;34m)\u001b[0m\u001b[0;34m,\u001b[0m \u001b[0mx\u001b[0m\u001b[0;34m)\u001b[0m\u001b[0;34m\u001b[0m\u001b[0;34m\u001b[0m\u001b[0m\n\u001b[0m\u001b[1;32m     13\u001b[0m     \u001b[0mprint\u001b[0m\u001b[0;34m(\u001b[0m\u001b[0;34mf\"threshold: {x}, dice: {total/count}\"\u001b[0m\u001b[0;34m)\u001b[0m\u001b[0;34m\u001b[0m\u001b[0;34m\u001b[0m\u001b[0m\n\u001b[1;32m     14\u001b[0m     \u001b[0mdice_coeffs\u001b[0m\u001b[0;34m.\u001b[0m\u001b[0mappend\u001b[0m\u001b[0;34m(\u001b[0m\u001b[0mtotal\u001b[0m\u001b[0;34m/\u001b[0m\u001b[0mcount\u001b[0m\u001b[0;34m)\u001b[0m\u001b[0;34m\u001b[0m\u001b[0;34m\u001b[0m\u001b[0m\n",
      "\u001b[0;31mKeyboardInterrupt\u001b[0m: "
     ]
    }
   ],
   "source": [
    "from pneumo.metrics import dice_coeff\n",
    "from tqdm.notebook import tqdm\n",
    "\n",
    "xs=np.linspace(0, 1., num=21)\n",
    "dice_coeffs=[]\n",
    "\n",
    "for x in xs:\n",
    "    count = 0\n",
    "    total = 0\n",
    "    for batch in tqdm(valid_loader):\n",
    "        count+=1\n",
    "        total +=dice_coeff(model(batch['img'].float()), batch[\"target\"].float(), x)\n",
    "    print(f\"threshold: {x}, dice: {total/count}\")\n",
    "    dice_coeffs.append(total/count)"
   ]
  },
  {
   "cell_type": "code",
   "execution_count": 31,
   "id": "cc5d807b",
   "metadata": {},
   "outputs": [
    {
     "data": {
      "application/javascript": [
       "/* Put everything inside the global mpl namespace */\n",
       "/* global mpl */\n",
       "window.mpl = {};\n",
       "\n",
       "mpl.get_websocket_type = function () {\n",
       "    if (typeof WebSocket !== 'undefined') {\n",
       "        return WebSocket;\n",
       "    } else if (typeof MozWebSocket !== 'undefined') {\n",
       "        return MozWebSocket;\n",
       "    } else {\n",
       "        alert(\n",
       "            'Your browser does not have WebSocket support. ' +\n",
       "                'Please try Chrome, Safari or Firefox ≥ 6. ' +\n",
       "                'Firefox 4 and 5 are also supported but you ' +\n",
       "                'have to enable WebSockets in about:config.'\n",
       "        );\n",
       "    }\n",
       "};\n",
       "\n",
       "mpl.figure = function (figure_id, websocket, ondownload, parent_element) {\n",
       "    this.id = figure_id;\n",
       "\n",
       "    this.ws = websocket;\n",
       "\n",
       "    this.supports_binary = this.ws.binaryType !== undefined;\n",
       "\n",
       "    if (!this.supports_binary) {\n",
       "        var warnings = document.getElementById('mpl-warnings');\n",
       "        if (warnings) {\n",
       "            warnings.style.display = 'block';\n",
       "            warnings.textContent =\n",
       "                'This browser does not support binary websocket messages. ' +\n",
       "                'Performance may be slow.';\n",
       "        }\n",
       "    }\n",
       "\n",
       "    this.imageObj = new Image();\n",
       "\n",
       "    this.context = undefined;\n",
       "    this.message = undefined;\n",
       "    this.canvas = undefined;\n",
       "    this.rubberband_canvas = undefined;\n",
       "    this.rubberband_context = undefined;\n",
       "    this.format_dropdown = undefined;\n",
       "\n",
       "    this.image_mode = 'full';\n",
       "\n",
       "    this.root = document.createElement('div');\n",
       "    this.root.setAttribute('style', 'display: inline-block');\n",
       "    this._root_extra_style(this.root);\n",
       "\n",
       "    parent_element.appendChild(this.root);\n",
       "\n",
       "    this._init_header(this);\n",
       "    this._init_canvas(this);\n",
       "    this._init_toolbar(this);\n",
       "\n",
       "    var fig = this;\n",
       "\n",
       "    this.waiting = false;\n",
       "\n",
       "    this.ws.onopen = function () {\n",
       "        fig.send_message('supports_binary', { value: fig.supports_binary });\n",
       "        fig.send_message('send_image_mode', {});\n",
       "        if (fig.ratio !== 1) {\n",
       "            fig.send_message('set_dpi_ratio', { dpi_ratio: fig.ratio });\n",
       "        }\n",
       "        fig.send_message('refresh', {});\n",
       "    };\n",
       "\n",
       "    this.imageObj.onload = function () {\n",
       "        if (fig.image_mode === 'full') {\n",
       "            // Full images could contain transparency (where diff images\n",
       "            // almost always do), so we need to clear the canvas so that\n",
       "            // there is no ghosting.\n",
       "            fig.context.clearRect(0, 0, fig.canvas.width, fig.canvas.height);\n",
       "        }\n",
       "        fig.context.drawImage(fig.imageObj, 0, 0);\n",
       "    };\n",
       "\n",
       "    this.imageObj.onunload = function () {\n",
       "        fig.ws.close();\n",
       "    };\n",
       "\n",
       "    this.ws.onmessage = this._make_on_message_function(this);\n",
       "\n",
       "    this.ondownload = ondownload;\n",
       "};\n",
       "\n",
       "mpl.figure.prototype._init_header = function () {\n",
       "    var titlebar = document.createElement('div');\n",
       "    titlebar.classList =\n",
       "        'ui-dialog-titlebar ui-widget-header ui-corner-all ui-helper-clearfix';\n",
       "    var titletext = document.createElement('div');\n",
       "    titletext.classList = 'ui-dialog-title';\n",
       "    titletext.setAttribute(\n",
       "        'style',\n",
       "        'width: 100%; text-align: center; padding: 3px;'\n",
       "    );\n",
       "    titlebar.appendChild(titletext);\n",
       "    this.root.appendChild(titlebar);\n",
       "    this.header = titletext;\n",
       "};\n",
       "\n",
       "mpl.figure.prototype._canvas_extra_style = function (_canvas_div) {};\n",
       "\n",
       "mpl.figure.prototype._root_extra_style = function (_canvas_div) {};\n",
       "\n",
       "mpl.figure.prototype._init_canvas = function () {\n",
       "    var fig = this;\n",
       "\n",
       "    var canvas_div = (this.canvas_div = document.createElement('div'));\n",
       "    canvas_div.setAttribute(\n",
       "        'style',\n",
       "        'border: 1px solid #ddd;' +\n",
       "            'box-sizing: content-box;' +\n",
       "            'clear: both;' +\n",
       "            'min-height: 1px;' +\n",
       "            'min-width: 1px;' +\n",
       "            'outline: 0;' +\n",
       "            'overflow: hidden;' +\n",
       "            'position: relative;' +\n",
       "            'resize: both;'\n",
       "    );\n",
       "\n",
       "    function on_keyboard_event_closure(name) {\n",
       "        return function (event) {\n",
       "            return fig.key_event(event, name);\n",
       "        };\n",
       "    }\n",
       "\n",
       "    canvas_div.addEventListener(\n",
       "        'keydown',\n",
       "        on_keyboard_event_closure('key_press')\n",
       "    );\n",
       "    canvas_div.addEventListener(\n",
       "        'keyup',\n",
       "        on_keyboard_event_closure('key_release')\n",
       "    );\n",
       "\n",
       "    this._canvas_extra_style(canvas_div);\n",
       "    this.root.appendChild(canvas_div);\n",
       "\n",
       "    var canvas = (this.canvas = document.createElement('canvas'));\n",
       "    canvas.classList.add('mpl-canvas');\n",
       "    canvas.setAttribute('style', 'box-sizing: content-box;');\n",
       "\n",
       "    this.context = canvas.getContext('2d');\n",
       "\n",
       "    var backingStore =\n",
       "        this.context.backingStorePixelRatio ||\n",
       "        this.context.webkitBackingStorePixelRatio ||\n",
       "        this.context.mozBackingStorePixelRatio ||\n",
       "        this.context.msBackingStorePixelRatio ||\n",
       "        this.context.oBackingStorePixelRatio ||\n",
       "        this.context.backingStorePixelRatio ||\n",
       "        1;\n",
       "\n",
       "    this.ratio = (window.devicePixelRatio || 1) / backingStore;\n",
       "\n",
       "    var rubberband_canvas = (this.rubberband_canvas = document.createElement(\n",
       "        'canvas'\n",
       "    ));\n",
       "    rubberband_canvas.setAttribute(\n",
       "        'style',\n",
       "        'box-sizing: content-box; position: absolute; left: 0; top: 0; z-index: 1;'\n",
       "    );\n",
       "\n",
       "    // Apply a ponyfill if ResizeObserver is not implemented by browser.\n",
       "    if (this.ResizeObserver === undefined) {\n",
       "        if (window.ResizeObserver !== undefined) {\n",
       "            this.ResizeObserver = window.ResizeObserver;\n",
       "        } else {\n",
       "            var obs = _JSXTOOLS_RESIZE_OBSERVER({});\n",
       "            this.ResizeObserver = obs.ResizeObserver;\n",
       "        }\n",
       "    }\n",
       "\n",
       "    this.resizeObserverInstance = new this.ResizeObserver(function (entries) {\n",
       "        var nentries = entries.length;\n",
       "        for (var i = 0; i < nentries; i++) {\n",
       "            var entry = entries[i];\n",
       "            var width, height;\n",
       "            if (entry.contentBoxSize) {\n",
       "                if (entry.contentBoxSize instanceof Array) {\n",
       "                    // Chrome 84 implements new version of spec.\n",
       "                    width = entry.contentBoxSize[0].inlineSize;\n",
       "                    height = entry.contentBoxSize[0].blockSize;\n",
       "                } else {\n",
       "                    // Firefox implements old version of spec.\n",
       "                    width = entry.contentBoxSize.inlineSize;\n",
       "                    height = entry.contentBoxSize.blockSize;\n",
       "                }\n",
       "            } else {\n",
       "                // Chrome <84 implements even older version of spec.\n",
       "                width = entry.contentRect.width;\n",
       "                height = entry.contentRect.height;\n",
       "            }\n",
       "\n",
       "            // Keep the size of the canvas and rubber band canvas in sync with\n",
       "            // the canvas container.\n",
       "            if (entry.devicePixelContentBoxSize) {\n",
       "                // Chrome 84 implements new version of spec.\n",
       "                canvas.setAttribute(\n",
       "                    'width',\n",
       "                    entry.devicePixelContentBoxSize[0].inlineSize\n",
       "                );\n",
       "                canvas.setAttribute(\n",
       "                    'height',\n",
       "                    entry.devicePixelContentBoxSize[0].blockSize\n",
       "                );\n",
       "            } else {\n",
       "                canvas.setAttribute('width', width * fig.ratio);\n",
       "                canvas.setAttribute('height', height * fig.ratio);\n",
       "            }\n",
       "            canvas.setAttribute(\n",
       "                'style',\n",
       "                'width: ' + width + 'px; height: ' + height + 'px;'\n",
       "            );\n",
       "\n",
       "            rubberband_canvas.setAttribute('width', width);\n",
       "            rubberband_canvas.setAttribute('height', height);\n",
       "\n",
       "            // And update the size in Python. We ignore the initial 0/0 size\n",
       "            // that occurs as the element is placed into the DOM, which should\n",
       "            // otherwise not happen due to the minimum size styling.\n",
       "            if (fig.ws.readyState == 1 && width != 0 && height != 0) {\n",
       "                fig.request_resize(width, height);\n",
       "            }\n",
       "        }\n",
       "    });\n",
       "    this.resizeObserverInstance.observe(canvas_div);\n",
       "\n",
       "    function on_mouse_event_closure(name) {\n",
       "        return function (event) {\n",
       "            return fig.mouse_event(event, name);\n",
       "        };\n",
       "    }\n",
       "\n",
       "    rubberband_canvas.addEventListener(\n",
       "        'mousedown',\n",
       "        on_mouse_event_closure('button_press')\n",
       "    );\n",
       "    rubberband_canvas.addEventListener(\n",
       "        'mouseup',\n",
       "        on_mouse_event_closure('button_release')\n",
       "    );\n",
       "    rubberband_canvas.addEventListener(\n",
       "        'dblclick',\n",
       "        on_mouse_event_closure('dblclick')\n",
       "    );\n",
       "    // Throttle sequential mouse events to 1 every 20ms.\n",
       "    rubberband_canvas.addEventListener(\n",
       "        'mousemove',\n",
       "        on_mouse_event_closure('motion_notify')\n",
       "    );\n",
       "\n",
       "    rubberband_canvas.addEventListener(\n",
       "        'mouseenter',\n",
       "        on_mouse_event_closure('figure_enter')\n",
       "    );\n",
       "    rubberband_canvas.addEventListener(\n",
       "        'mouseleave',\n",
       "        on_mouse_event_closure('figure_leave')\n",
       "    );\n",
       "\n",
       "    canvas_div.addEventListener('wheel', function (event) {\n",
       "        if (event.deltaY < 0) {\n",
       "            event.step = 1;\n",
       "        } else {\n",
       "            event.step = -1;\n",
       "        }\n",
       "        on_mouse_event_closure('scroll')(event);\n",
       "    });\n",
       "\n",
       "    canvas_div.appendChild(canvas);\n",
       "    canvas_div.appendChild(rubberband_canvas);\n",
       "\n",
       "    this.rubberband_context = rubberband_canvas.getContext('2d');\n",
       "    this.rubberband_context.strokeStyle = '#000000';\n",
       "\n",
       "    this._resize_canvas = function (width, height, forward) {\n",
       "        if (forward) {\n",
       "            canvas_div.style.width = width + 'px';\n",
       "            canvas_div.style.height = height + 'px';\n",
       "        }\n",
       "    };\n",
       "\n",
       "    // Disable right mouse context menu.\n",
       "    this.rubberband_canvas.addEventListener('contextmenu', function (_e) {\n",
       "        event.preventDefault();\n",
       "        return false;\n",
       "    });\n",
       "\n",
       "    function set_focus() {\n",
       "        canvas.focus();\n",
       "        canvas_div.focus();\n",
       "    }\n",
       "\n",
       "    window.setTimeout(set_focus, 100);\n",
       "};\n",
       "\n",
       "mpl.figure.prototype._init_toolbar = function () {\n",
       "    var fig = this;\n",
       "\n",
       "    var toolbar = document.createElement('div');\n",
       "    toolbar.classList = 'mpl-toolbar';\n",
       "    this.root.appendChild(toolbar);\n",
       "\n",
       "    function on_click_closure(name) {\n",
       "        return function (_event) {\n",
       "            return fig.toolbar_button_onclick(name);\n",
       "        };\n",
       "    }\n",
       "\n",
       "    function on_mouseover_closure(tooltip) {\n",
       "        return function (event) {\n",
       "            if (!event.currentTarget.disabled) {\n",
       "                return fig.toolbar_button_onmouseover(tooltip);\n",
       "            }\n",
       "        };\n",
       "    }\n",
       "\n",
       "    fig.buttons = {};\n",
       "    var buttonGroup = document.createElement('div');\n",
       "    buttonGroup.classList = 'mpl-button-group';\n",
       "    for (var toolbar_ind in mpl.toolbar_items) {\n",
       "        var name = mpl.toolbar_items[toolbar_ind][0];\n",
       "        var tooltip = mpl.toolbar_items[toolbar_ind][1];\n",
       "        var image = mpl.toolbar_items[toolbar_ind][2];\n",
       "        var method_name = mpl.toolbar_items[toolbar_ind][3];\n",
       "\n",
       "        if (!name) {\n",
       "            /* Instead of a spacer, we start a new button group. */\n",
       "            if (buttonGroup.hasChildNodes()) {\n",
       "                toolbar.appendChild(buttonGroup);\n",
       "            }\n",
       "            buttonGroup = document.createElement('div');\n",
       "            buttonGroup.classList = 'mpl-button-group';\n",
       "            continue;\n",
       "        }\n",
       "\n",
       "        var button = (fig.buttons[name] = document.createElement('button'));\n",
       "        button.classList = 'mpl-widget';\n",
       "        button.setAttribute('role', 'button');\n",
       "        button.setAttribute('aria-disabled', 'false');\n",
       "        button.addEventListener('click', on_click_closure(method_name));\n",
       "        button.addEventListener('mouseover', on_mouseover_closure(tooltip));\n",
       "\n",
       "        var icon_img = document.createElement('img');\n",
       "        icon_img.src = '_images/' + image + '.png';\n",
       "        icon_img.srcset = '_images/' + image + '_large.png 2x';\n",
       "        icon_img.alt = tooltip;\n",
       "        button.appendChild(icon_img);\n",
       "\n",
       "        buttonGroup.appendChild(button);\n",
       "    }\n",
       "\n",
       "    if (buttonGroup.hasChildNodes()) {\n",
       "        toolbar.appendChild(buttonGroup);\n",
       "    }\n",
       "\n",
       "    var fmt_picker = document.createElement('select');\n",
       "    fmt_picker.classList = 'mpl-widget';\n",
       "    toolbar.appendChild(fmt_picker);\n",
       "    this.format_dropdown = fmt_picker;\n",
       "\n",
       "    for (var ind in mpl.extensions) {\n",
       "        var fmt = mpl.extensions[ind];\n",
       "        var option = document.createElement('option');\n",
       "        option.selected = fmt === mpl.default_extension;\n",
       "        option.innerHTML = fmt;\n",
       "        fmt_picker.appendChild(option);\n",
       "    }\n",
       "\n",
       "    var status_bar = document.createElement('span');\n",
       "    status_bar.classList = 'mpl-message';\n",
       "    toolbar.appendChild(status_bar);\n",
       "    this.message = status_bar;\n",
       "};\n",
       "\n",
       "mpl.figure.prototype.request_resize = function (x_pixels, y_pixels) {\n",
       "    // Request matplotlib to resize the figure. Matplotlib will then trigger a resize in the client,\n",
       "    // which will in turn request a refresh of the image.\n",
       "    this.send_message('resize', { width: x_pixels, height: y_pixels });\n",
       "};\n",
       "\n",
       "mpl.figure.prototype.send_message = function (type, properties) {\n",
       "    properties['type'] = type;\n",
       "    properties['figure_id'] = this.id;\n",
       "    this.ws.send(JSON.stringify(properties));\n",
       "};\n",
       "\n",
       "mpl.figure.prototype.send_draw_message = function () {\n",
       "    if (!this.waiting) {\n",
       "        this.waiting = true;\n",
       "        this.ws.send(JSON.stringify({ type: 'draw', figure_id: this.id }));\n",
       "    }\n",
       "};\n",
       "\n",
       "mpl.figure.prototype.handle_save = function (fig, _msg) {\n",
       "    var format_dropdown = fig.format_dropdown;\n",
       "    var format = format_dropdown.options[format_dropdown.selectedIndex].value;\n",
       "    fig.ondownload(fig, format);\n",
       "};\n",
       "\n",
       "mpl.figure.prototype.handle_resize = function (fig, msg) {\n",
       "    var size = msg['size'];\n",
       "    if (size[0] !== fig.canvas.width || size[1] !== fig.canvas.height) {\n",
       "        fig._resize_canvas(size[0], size[1], msg['forward']);\n",
       "        fig.send_message('refresh', {});\n",
       "    }\n",
       "};\n",
       "\n",
       "mpl.figure.prototype.handle_rubberband = function (fig, msg) {\n",
       "    var x0 = msg['x0'] / fig.ratio;\n",
       "    var y0 = (fig.canvas.height - msg['y0']) / fig.ratio;\n",
       "    var x1 = msg['x1'] / fig.ratio;\n",
       "    var y1 = (fig.canvas.height - msg['y1']) / fig.ratio;\n",
       "    x0 = Math.floor(x0) + 0.5;\n",
       "    y0 = Math.floor(y0) + 0.5;\n",
       "    x1 = Math.floor(x1) + 0.5;\n",
       "    y1 = Math.floor(y1) + 0.5;\n",
       "    var min_x = Math.min(x0, x1);\n",
       "    var min_y = Math.min(y0, y1);\n",
       "    var width = Math.abs(x1 - x0);\n",
       "    var height = Math.abs(y1 - y0);\n",
       "\n",
       "    fig.rubberband_context.clearRect(\n",
       "        0,\n",
       "        0,\n",
       "        fig.canvas.width / fig.ratio,\n",
       "        fig.canvas.height / fig.ratio\n",
       "    );\n",
       "\n",
       "    fig.rubberband_context.strokeRect(min_x, min_y, width, height);\n",
       "};\n",
       "\n",
       "mpl.figure.prototype.handle_figure_label = function (fig, msg) {\n",
       "    // Updates the figure title.\n",
       "    fig.header.textContent = msg['label'];\n",
       "};\n",
       "\n",
       "mpl.figure.prototype.handle_cursor = function (fig, msg) {\n",
       "    var cursor = msg['cursor'];\n",
       "    switch (cursor) {\n",
       "        case 0:\n",
       "            cursor = 'pointer';\n",
       "            break;\n",
       "        case 1:\n",
       "            cursor = 'default';\n",
       "            break;\n",
       "        case 2:\n",
       "            cursor = 'crosshair';\n",
       "            break;\n",
       "        case 3:\n",
       "            cursor = 'move';\n",
       "            break;\n",
       "    }\n",
       "    fig.rubberband_canvas.style.cursor = cursor;\n",
       "};\n",
       "\n",
       "mpl.figure.prototype.handle_message = function (fig, msg) {\n",
       "    fig.message.textContent = msg['message'];\n",
       "};\n",
       "\n",
       "mpl.figure.prototype.handle_draw = function (fig, _msg) {\n",
       "    // Request the server to send over a new figure.\n",
       "    fig.send_draw_message();\n",
       "};\n",
       "\n",
       "mpl.figure.prototype.handle_image_mode = function (fig, msg) {\n",
       "    fig.image_mode = msg['mode'];\n",
       "};\n",
       "\n",
       "mpl.figure.prototype.handle_history_buttons = function (fig, msg) {\n",
       "    for (var key in msg) {\n",
       "        if (!(key in fig.buttons)) {\n",
       "            continue;\n",
       "        }\n",
       "        fig.buttons[key].disabled = !msg[key];\n",
       "        fig.buttons[key].setAttribute('aria-disabled', !msg[key]);\n",
       "    }\n",
       "};\n",
       "\n",
       "mpl.figure.prototype.handle_navigate_mode = function (fig, msg) {\n",
       "    if (msg['mode'] === 'PAN') {\n",
       "        fig.buttons['Pan'].classList.add('active');\n",
       "        fig.buttons['Zoom'].classList.remove('active');\n",
       "    } else if (msg['mode'] === 'ZOOM') {\n",
       "        fig.buttons['Pan'].classList.remove('active');\n",
       "        fig.buttons['Zoom'].classList.add('active');\n",
       "    } else {\n",
       "        fig.buttons['Pan'].classList.remove('active');\n",
       "        fig.buttons['Zoom'].classList.remove('active');\n",
       "    }\n",
       "};\n",
       "\n",
       "mpl.figure.prototype.updated_canvas_event = function () {\n",
       "    // Called whenever the canvas gets updated.\n",
       "    this.send_message('ack', {});\n",
       "};\n",
       "\n",
       "// A function to construct a web socket function for onmessage handling.\n",
       "// Called in the figure constructor.\n",
       "mpl.figure.prototype._make_on_message_function = function (fig) {\n",
       "    return function socket_on_message(evt) {\n",
       "        if (evt.data instanceof Blob) {\n",
       "            var img = evt.data;\n",
       "            if (img.type !== 'image/png') {\n",
       "                /* FIXME: We get \"Resource interpreted as Image but\n",
       "                 * transferred with MIME type text/plain:\" errors on\n",
       "                 * Chrome.  But how to set the MIME type?  It doesn't seem\n",
       "                 * to be part of the websocket stream */\n",
       "                img.type = 'image/png';\n",
       "            }\n",
       "\n",
       "            /* Free the memory for the previous frames */\n",
       "            if (fig.imageObj.src) {\n",
       "                (window.URL || window.webkitURL).revokeObjectURL(\n",
       "                    fig.imageObj.src\n",
       "                );\n",
       "            }\n",
       "\n",
       "            fig.imageObj.src = (window.URL || window.webkitURL).createObjectURL(\n",
       "                img\n",
       "            );\n",
       "            fig.updated_canvas_event();\n",
       "            fig.waiting = false;\n",
       "            return;\n",
       "        } else if (\n",
       "            typeof evt.data === 'string' &&\n",
       "            evt.data.slice(0, 21) === 'data:image/png;base64'\n",
       "        ) {\n",
       "            fig.imageObj.src = evt.data;\n",
       "            fig.updated_canvas_event();\n",
       "            fig.waiting = false;\n",
       "            return;\n",
       "        }\n",
       "\n",
       "        var msg = JSON.parse(evt.data);\n",
       "        var msg_type = msg['type'];\n",
       "\n",
       "        // Call the  \"handle_{type}\" callback, which takes\n",
       "        // the figure and JSON message as its only arguments.\n",
       "        try {\n",
       "            var callback = fig['handle_' + msg_type];\n",
       "        } catch (e) {\n",
       "            console.log(\n",
       "                \"No handler for the '\" + msg_type + \"' message type: \",\n",
       "                msg\n",
       "            );\n",
       "            return;\n",
       "        }\n",
       "\n",
       "        if (callback) {\n",
       "            try {\n",
       "                // console.log(\"Handling '\" + msg_type + \"' message: \", msg);\n",
       "                callback(fig, msg);\n",
       "            } catch (e) {\n",
       "                console.log(\n",
       "                    \"Exception inside the 'handler_\" + msg_type + \"' callback:\",\n",
       "                    e,\n",
       "                    e.stack,\n",
       "                    msg\n",
       "                );\n",
       "            }\n",
       "        }\n",
       "    };\n",
       "};\n",
       "\n",
       "// from http://stackoverflow.com/questions/1114465/getting-mouse-location-in-canvas\n",
       "mpl.findpos = function (e) {\n",
       "    //this section is from http://www.quirksmode.org/js/events_properties.html\n",
       "    var targ;\n",
       "    if (!e) {\n",
       "        e = window.event;\n",
       "    }\n",
       "    if (e.target) {\n",
       "        targ = e.target;\n",
       "    } else if (e.srcElement) {\n",
       "        targ = e.srcElement;\n",
       "    }\n",
       "    if (targ.nodeType === 3) {\n",
       "        // defeat Safari bug\n",
       "        targ = targ.parentNode;\n",
       "    }\n",
       "\n",
       "    // pageX,Y are the mouse positions relative to the document\n",
       "    var boundingRect = targ.getBoundingClientRect();\n",
       "    var x = e.pageX - (boundingRect.left + document.body.scrollLeft);\n",
       "    var y = e.pageY - (boundingRect.top + document.body.scrollTop);\n",
       "\n",
       "    return { x: x, y: y };\n",
       "};\n",
       "\n",
       "/*\n",
       " * return a copy of an object with only non-object keys\n",
       " * we need this to avoid circular references\n",
       " * http://stackoverflow.com/a/24161582/3208463\n",
       " */\n",
       "function simpleKeys(original) {\n",
       "    return Object.keys(original).reduce(function (obj, key) {\n",
       "        if (typeof original[key] !== 'object') {\n",
       "            obj[key] = original[key];\n",
       "        }\n",
       "        return obj;\n",
       "    }, {});\n",
       "}\n",
       "\n",
       "mpl.figure.prototype.mouse_event = function (event, name) {\n",
       "    var canvas_pos = mpl.findpos(event);\n",
       "\n",
       "    if (name === 'button_press') {\n",
       "        this.canvas.focus();\n",
       "        this.canvas_div.focus();\n",
       "    }\n",
       "\n",
       "    var x = canvas_pos.x * this.ratio;\n",
       "    var y = canvas_pos.y * this.ratio;\n",
       "\n",
       "    this.send_message(name, {\n",
       "        x: x,\n",
       "        y: y,\n",
       "        button: event.button,\n",
       "        step: event.step,\n",
       "        guiEvent: simpleKeys(event),\n",
       "    });\n",
       "\n",
       "    /* This prevents the web browser from automatically changing to\n",
       "     * the text insertion cursor when the button is pressed.  We want\n",
       "     * to control all of the cursor setting manually through the\n",
       "     * 'cursor' event from matplotlib */\n",
       "    event.preventDefault();\n",
       "    return false;\n",
       "};\n",
       "\n",
       "mpl.figure.prototype._key_event_extra = function (_event, _name) {\n",
       "    // Handle any extra behaviour associated with a key event\n",
       "};\n",
       "\n",
       "mpl.figure.prototype.key_event = function (event, name) {\n",
       "    // Prevent repeat events\n",
       "    if (name === 'key_press') {\n",
       "        if (event.key === this._key) {\n",
       "            return;\n",
       "        } else {\n",
       "            this._key = event.key;\n",
       "        }\n",
       "    }\n",
       "    if (name === 'key_release') {\n",
       "        this._key = null;\n",
       "    }\n",
       "\n",
       "    var value = '';\n",
       "    if (event.ctrlKey && event.key !== 'Control') {\n",
       "        value += 'ctrl+';\n",
       "    }\n",
       "    else if (event.altKey && event.key !== 'Alt') {\n",
       "        value += 'alt+';\n",
       "    }\n",
       "    else if (event.shiftKey && event.key !== 'Shift') {\n",
       "        value += 'shift+';\n",
       "    }\n",
       "\n",
       "    value += 'k' + event.key;\n",
       "\n",
       "    this._key_event_extra(event, name);\n",
       "\n",
       "    this.send_message(name, { key: value, guiEvent: simpleKeys(event) });\n",
       "    return false;\n",
       "};\n",
       "\n",
       "mpl.figure.prototype.toolbar_button_onclick = function (name) {\n",
       "    if (name === 'download') {\n",
       "        this.handle_save(this, null);\n",
       "    } else {\n",
       "        this.send_message('toolbar_button', { name: name });\n",
       "    }\n",
       "};\n",
       "\n",
       "mpl.figure.prototype.toolbar_button_onmouseover = function (tooltip) {\n",
       "    this.message.textContent = tooltip;\n",
       "};\n",
       "\n",
       "///////////////// REMAINING CONTENT GENERATED BY embed_js.py /////////////////\n",
       "// prettier-ignore\n",
       "var _JSXTOOLS_RESIZE_OBSERVER=function(A){var t,i=new WeakMap,n=new WeakMap,a=new WeakMap,r=new WeakMap,o=new Set;function s(e){if(!(this instanceof s))throw new TypeError(\"Constructor requires 'new' operator\");i.set(this,e)}function h(){throw new TypeError(\"Function is not a constructor\")}function c(e,t,i,n){e=0 in arguments?Number(arguments[0]):0,t=1 in arguments?Number(arguments[1]):0,i=2 in arguments?Number(arguments[2]):0,n=3 in arguments?Number(arguments[3]):0,this.right=(this.x=this.left=e)+(this.width=i),this.bottom=(this.y=this.top=t)+(this.height=n),Object.freeze(this)}function d(){t=requestAnimationFrame(d);var s=new WeakMap,p=new Set;o.forEach((function(t){r.get(t).forEach((function(i){var r=t instanceof window.SVGElement,o=a.get(t),d=r?0:parseFloat(o.paddingTop),f=r?0:parseFloat(o.paddingRight),l=r?0:parseFloat(o.paddingBottom),u=r?0:parseFloat(o.paddingLeft),g=r?0:parseFloat(o.borderTopWidth),m=r?0:parseFloat(o.borderRightWidth),w=r?0:parseFloat(o.borderBottomWidth),b=u+f,F=d+l,v=(r?0:parseFloat(o.borderLeftWidth))+m,W=g+w,y=r?0:t.offsetHeight-W-t.clientHeight,E=r?0:t.offsetWidth-v-t.clientWidth,R=b+v,z=F+W,M=r?t.width:parseFloat(o.width)-R-E,O=r?t.height:parseFloat(o.height)-z-y;if(n.has(t)){var k=n.get(t);if(k[0]===M&&k[1]===O)return}n.set(t,[M,O]);var S=Object.create(h.prototype);S.target=t,S.contentRect=new c(u,d,M,O),s.has(i)||(s.set(i,[]),p.add(i)),s.get(i).push(S)}))})),p.forEach((function(e){i.get(e).call(e,s.get(e),e)}))}return s.prototype.observe=function(i){if(i instanceof window.Element){r.has(i)||(r.set(i,new Set),o.add(i),a.set(i,window.getComputedStyle(i)));var n=r.get(i);n.has(this)||n.add(this),cancelAnimationFrame(t),t=requestAnimationFrame(d)}},s.prototype.unobserve=function(i){if(i instanceof window.Element&&r.has(i)){var n=r.get(i);n.has(this)&&(n.delete(this),n.size||(r.delete(i),o.delete(i))),n.size||r.delete(i),o.size||cancelAnimationFrame(t)}},A.DOMRectReadOnly=c,A.ResizeObserver=s,A.ResizeObserverEntry=h,A}; // eslint-disable-line\n",
       "mpl.toolbar_items = [[\"Home\", \"Reset original view\", \"fa fa-home icon-home\", \"home\"], [\"Back\", \"Back to previous view\", \"fa fa-arrow-left icon-arrow-left\", \"back\"], [\"Forward\", \"Forward to next view\", \"fa fa-arrow-right icon-arrow-right\", \"forward\"], [\"\", \"\", \"\", \"\"], [\"Pan\", \"Left button pans, Right button zooms\\nx/y fixes axis, CTRL fixes aspect\", \"fa fa-arrows icon-move\", \"pan\"], [\"Zoom\", \"Zoom to rectangle\\nx/y fixes axis, CTRL fixes aspect\", \"fa fa-square-o icon-check-empty\", \"zoom\"], [\"\", \"\", \"\", \"\"], [\"Download\", \"Download plot\", \"fa fa-floppy-o icon-save\", \"download\"]];\n",
       "\n",
       "mpl.extensions = [\"eps\", \"jpeg\", \"pgf\", \"pdf\", \"png\", \"ps\", \"raw\", \"svg\", \"tif\"];\n",
       "\n",
       "mpl.default_extension = \"png\";/* global mpl */\n",
       "\n",
       "var comm_websocket_adapter = function (comm) {\n",
       "    // Create a \"websocket\"-like object which calls the given IPython comm\n",
       "    // object with the appropriate methods. Currently this is a non binary\n",
       "    // socket, so there is still some room for performance tuning.\n",
       "    var ws = {};\n",
       "\n",
       "    ws.binaryType = comm.kernel.ws.binaryType;\n",
       "    ws.readyState = comm.kernel.ws.readyState;\n",
       "    function updateReadyState(_event) {\n",
       "        if (comm.kernel.ws) {\n",
       "            ws.readyState = comm.kernel.ws.readyState;\n",
       "        } else {\n",
       "            ws.readyState = 3; // Closed state.\n",
       "        }\n",
       "    }\n",
       "    comm.kernel.ws.addEventListener('open', updateReadyState);\n",
       "    comm.kernel.ws.addEventListener('close', updateReadyState);\n",
       "    comm.kernel.ws.addEventListener('error', updateReadyState);\n",
       "\n",
       "    ws.close = function () {\n",
       "        comm.close();\n",
       "    };\n",
       "    ws.send = function (m) {\n",
       "        //console.log('sending', m);\n",
       "        comm.send(m);\n",
       "    };\n",
       "    // Register the callback with on_msg.\n",
       "    comm.on_msg(function (msg) {\n",
       "        //console.log('receiving', msg['content']['data'], msg);\n",
       "        var data = msg['content']['data'];\n",
       "        if (data['blob'] !== undefined) {\n",
       "            data = {\n",
       "                data: new Blob(msg['buffers'], { type: data['blob'] }),\n",
       "            };\n",
       "        }\n",
       "        // Pass the mpl event to the overridden (by mpl) onmessage function.\n",
       "        ws.onmessage(data);\n",
       "    });\n",
       "    return ws;\n",
       "};\n",
       "\n",
       "mpl.mpl_figure_comm = function (comm, msg) {\n",
       "    // This is the function which gets called when the mpl process\n",
       "    // starts-up an IPython Comm through the \"matplotlib\" channel.\n",
       "\n",
       "    var id = msg.content.data.id;\n",
       "    // Get hold of the div created by the display call when the Comm\n",
       "    // socket was opened in Python.\n",
       "    var element = document.getElementById(id);\n",
       "    var ws_proxy = comm_websocket_adapter(comm);\n",
       "\n",
       "    function ondownload(figure, _format) {\n",
       "        window.open(figure.canvas.toDataURL());\n",
       "    }\n",
       "\n",
       "    var fig = new mpl.figure(id, ws_proxy, ondownload, element);\n",
       "\n",
       "    // Call onopen now - mpl needs it, as it is assuming we've passed it a real\n",
       "    // web socket which is closed, not our websocket->open comm proxy.\n",
       "    ws_proxy.onopen();\n",
       "\n",
       "    fig.parent_element = element;\n",
       "    fig.cell_info = mpl.find_output_cell(\"<div id='\" + id + \"'></div>\");\n",
       "    if (!fig.cell_info) {\n",
       "        console.error('Failed to find cell for figure', id, fig);\n",
       "        return;\n",
       "    }\n",
       "    fig.cell_info[0].output_area.element.on(\n",
       "        'cleared',\n",
       "        { fig: fig },\n",
       "        fig._remove_fig_handler\n",
       "    );\n",
       "};\n",
       "\n",
       "mpl.figure.prototype.handle_close = function (fig, msg) {\n",
       "    var width = fig.canvas.width / fig.ratio;\n",
       "    fig.cell_info[0].output_area.element.off(\n",
       "        'cleared',\n",
       "        fig._remove_fig_handler\n",
       "    );\n",
       "    fig.resizeObserverInstance.unobserve(fig.canvas_div);\n",
       "\n",
       "    // Update the output cell to use the data from the current canvas.\n",
       "    fig.push_to_output();\n",
       "    var dataURL = fig.canvas.toDataURL();\n",
       "    // Re-enable the keyboard manager in IPython - without this line, in FF,\n",
       "    // the notebook keyboard shortcuts fail.\n",
       "    IPython.keyboard_manager.enable();\n",
       "    fig.parent_element.innerHTML =\n",
       "        '<img src=\"' + dataURL + '\" width=\"' + width + '\">';\n",
       "    fig.close_ws(fig, msg);\n",
       "};\n",
       "\n",
       "mpl.figure.prototype.close_ws = function (fig, msg) {\n",
       "    fig.send_message('closing', msg);\n",
       "    // fig.ws.close()\n",
       "};\n",
       "\n",
       "mpl.figure.prototype.push_to_output = function (_remove_interactive) {\n",
       "    // Turn the data on the canvas into data in the output cell.\n",
       "    var width = this.canvas.width / this.ratio;\n",
       "    var dataURL = this.canvas.toDataURL();\n",
       "    this.cell_info[1]['text/html'] =\n",
       "        '<img src=\"' + dataURL + '\" width=\"' + width + '\">';\n",
       "};\n",
       "\n",
       "mpl.figure.prototype.updated_canvas_event = function () {\n",
       "    // Tell IPython that the notebook contents must change.\n",
       "    IPython.notebook.set_dirty(true);\n",
       "    this.send_message('ack', {});\n",
       "    var fig = this;\n",
       "    // Wait a second, then push the new image to the DOM so\n",
       "    // that it is saved nicely (might be nice to debounce this).\n",
       "    setTimeout(function () {\n",
       "        fig.push_to_output();\n",
       "    }, 1000);\n",
       "};\n",
       "\n",
       "mpl.figure.prototype._init_toolbar = function () {\n",
       "    var fig = this;\n",
       "\n",
       "    var toolbar = document.createElement('div');\n",
       "    toolbar.classList = 'btn-toolbar';\n",
       "    this.root.appendChild(toolbar);\n",
       "\n",
       "    function on_click_closure(name) {\n",
       "        return function (_event) {\n",
       "            return fig.toolbar_button_onclick(name);\n",
       "        };\n",
       "    }\n",
       "\n",
       "    function on_mouseover_closure(tooltip) {\n",
       "        return function (event) {\n",
       "            if (!event.currentTarget.disabled) {\n",
       "                return fig.toolbar_button_onmouseover(tooltip);\n",
       "            }\n",
       "        };\n",
       "    }\n",
       "\n",
       "    fig.buttons = {};\n",
       "    var buttonGroup = document.createElement('div');\n",
       "    buttonGroup.classList = 'btn-group';\n",
       "    var button;\n",
       "    for (var toolbar_ind in mpl.toolbar_items) {\n",
       "        var name = mpl.toolbar_items[toolbar_ind][0];\n",
       "        var tooltip = mpl.toolbar_items[toolbar_ind][1];\n",
       "        var image = mpl.toolbar_items[toolbar_ind][2];\n",
       "        var method_name = mpl.toolbar_items[toolbar_ind][3];\n",
       "\n",
       "        if (!name) {\n",
       "            /* Instead of a spacer, we start a new button group. */\n",
       "            if (buttonGroup.hasChildNodes()) {\n",
       "                toolbar.appendChild(buttonGroup);\n",
       "            }\n",
       "            buttonGroup = document.createElement('div');\n",
       "            buttonGroup.classList = 'btn-group';\n",
       "            continue;\n",
       "        }\n",
       "\n",
       "        button = fig.buttons[name] = document.createElement('button');\n",
       "        button.classList = 'btn btn-default';\n",
       "        button.href = '#';\n",
       "        button.title = name;\n",
       "        button.innerHTML = '<i class=\"fa ' + image + ' fa-lg\"></i>';\n",
       "        button.addEventListener('click', on_click_closure(method_name));\n",
       "        button.addEventListener('mouseover', on_mouseover_closure(tooltip));\n",
       "        buttonGroup.appendChild(button);\n",
       "    }\n",
       "\n",
       "    if (buttonGroup.hasChildNodes()) {\n",
       "        toolbar.appendChild(buttonGroup);\n",
       "    }\n",
       "\n",
       "    // Add the status bar.\n",
       "    var status_bar = document.createElement('span');\n",
       "    status_bar.classList = 'mpl-message pull-right';\n",
       "    toolbar.appendChild(status_bar);\n",
       "    this.message = status_bar;\n",
       "\n",
       "    // Add the close button to the window.\n",
       "    var buttongrp = document.createElement('div');\n",
       "    buttongrp.classList = 'btn-group inline pull-right';\n",
       "    button = document.createElement('button');\n",
       "    button.classList = 'btn btn-mini btn-primary';\n",
       "    button.href = '#';\n",
       "    button.title = 'Stop Interaction';\n",
       "    button.innerHTML = '<i class=\"fa fa-power-off icon-remove icon-large\"></i>';\n",
       "    button.addEventListener('click', function (_evt) {\n",
       "        fig.handle_close(fig, {});\n",
       "    });\n",
       "    button.addEventListener(\n",
       "        'mouseover',\n",
       "        on_mouseover_closure('Stop Interaction')\n",
       "    );\n",
       "    buttongrp.appendChild(button);\n",
       "    var titlebar = this.root.querySelector('.ui-dialog-titlebar');\n",
       "    titlebar.insertBefore(buttongrp, titlebar.firstChild);\n",
       "};\n",
       "\n",
       "mpl.figure.prototype._remove_fig_handler = function (event) {\n",
       "    var fig = event.data.fig;\n",
       "    if (event.target !== this) {\n",
       "        // Ignore bubbled events from children.\n",
       "        return;\n",
       "    }\n",
       "    fig.close_ws(fig, {});\n",
       "};\n",
       "\n",
       "mpl.figure.prototype._root_extra_style = function (el) {\n",
       "    el.style.boxSizing = 'content-box'; // override notebook setting of border-box.\n",
       "};\n",
       "\n",
       "mpl.figure.prototype._canvas_extra_style = function (el) {\n",
       "    // this is important to make the div 'focusable\n",
       "    el.setAttribute('tabindex', 0);\n",
       "    // reach out to IPython and tell the keyboard manager to turn it's self\n",
       "    // off when our div gets focus\n",
       "\n",
       "    // location in version 3\n",
       "    if (IPython.notebook.keyboard_manager) {\n",
       "        IPython.notebook.keyboard_manager.register_events(el);\n",
       "    } else {\n",
       "        // location in version 2\n",
       "        IPython.keyboard_manager.register_events(el);\n",
       "    }\n",
       "};\n",
       "\n",
       "mpl.figure.prototype._key_event_extra = function (event, _name) {\n",
       "    var manager = IPython.notebook.keyboard_manager;\n",
       "    if (!manager) {\n",
       "        manager = IPython.keyboard_manager;\n",
       "    }\n",
       "\n",
       "    // Check for shift+enter\n",
       "    if (event.shiftKey && event.which === 13) {\n",
       "        this.canvas_div.blur();\n",
       "        // select the cell after this one\n",
       "        var index = IPython.notebook.find_cell_index(this.cell_info[0]);\n",
       "        IPython.notebook.select(index + 1);\n",
       "    }\n",
       "};\n",
       "\n",
       "mpl.figure.prototype.handle_save = function (fig, _msg) {\n",
       "    fig.ondownload(fig, null);\n",
       "};\n",
       "\n",
       "mpl.find_output_cell = function (html_output) {\n",
       "    // Return the cell and output element which can be found *uniquely* in the notebook.\n",
       "    // Note - this is a bit hacky, but it is done because the \"notebook_saving.Notebook\"\n",
       "    // IPython event is triggered only after the cells have been serialised, which for\n",
       "    // our purposes (turning an active figure into a static one), is too late.\n",
       "    var cells = IPython.notebook.get_cells();\n",
       "    var ncells = cells.length;\n",
       "    for (var i = 0; i < ncells; i++) {\n",
       "        var cell = cells[i];\n",
       "        if (cell.cell_type === 'code') {\n",
       "            for (var j = 0; j < cell.output_area.outputs.length; j++) {\n",
       "                var data = cell.output_area.outputs[j];\n",
       "                if (data.data) {\n",
       "                    // IPython >= 3 moved mimebundle to data attribute of output\n",
       "                    data = data.data;\n",
       "                }\n",
       "                if (data['text/html'] === html_output) {\n",
       "                    return [cell, data, j];\n",
       "                }\n",
       "            }\n",
       "        }\n",
       "    }\n",
       "};\n",
       "\n",
       "// Register the function which deals with the matplotlib target/channel.\n",
       "// The kernel may be null if the page has been refreshed.\n",
       "if (IPython.notebook.kernel !== null) {\n",
       "    IPython.notebook.kernel.comm_manager.register_target(\n",
       "        'matplotlib',\n",
       "        mpl.mpl_figure_comm\n",
       "    );\n",
       "}\n"
      ],
      "text/plain": [
       "<IPython.core.display.Javascript object>"
      ]
     },
     "metadata": {},
     "output_type": "display_data"
    },
    {
     "data": {
      "text/html": [
       "<img src=\"data:image/png;base64,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\" width=\"639.4231003769764\">"
      ],
      "text/plain": [
       "<IPython.core.display.HTML object>"
      ]
     },
     "metadata": {},
     "output_type": "display_data"
    },
    {
     "data": {
      "text/plain": [
       "[<matplotlib.lines.Line2D at 0x7ef9cd87d8b0>]"
      ]
     },
     "execution_count": 31,
     "metadata": {},
     "output_type": "execute_result"
    }
   ],
   "source": [
    "%matplotlib notebook\n",
    "\n",
    "from matplotlib import pyplot as plt\n",
    "\n",
    "coeffs= [c.cpu().numpy() for c in dice_coeffs]\n",
    "plt.plot(xs[:len(coeffs)], coeffs)"
   ]
  },
  {
   "cell_type": "code",
   "execution_count": 15,
   "id": "5b562c3c",
   "metadata": {},
   "outputs": [],
   "source": [
    "THRESHOLD = 0.35"
   ]
  },
  {
   "cell_type": "code",
   "execution_count": 3,
   "id": "3fed1b4b",
   "metadata": {},
   "outputs": [],
   "source": [
    "import glob\n",
    "import os\n",
    "\n",
    "TEST_PATH = \"/home/wilmer-linux/Projects/data/pneumo_s2/\"\n",
    "test_fns = glob.glob(os.path.join(TEST_PATH, \"**/*.dcm\"), recursive=True)"
   ]
  },
  {
   "cell_type": "code",
   "execution_count": 22,
   "id": "b0c0521f",
   "metadata": {},
   "outputs": [],
   "source": [
    "import glob\n",
    "import os\n",
    "from typing import Optional\n",
    "\n",
    "import albumentations as alb\n",
    "import numpy as np\n",
    "import pandas as pd\n",
    "import pydicom\n",
    "from pydicom.dataset import FileDataset\n",
    "from torch.utils.data import Dataset\n",
    "\n",
    "from pneumo.mask_functions import mask2rle, rle2mask\n",
    "import torch\n",
    "from typing import Dict, Any\n",
    "\n",
    "class TestDataset(Dataset):\n",
    "    def __init__(\n",
    "        self,\n",
    "        dcm_paths,\n",
    "        transforms: Optional[alb.core.composition.Compose] = None,\n",
    "    ):\n",
    "        self.fns = dcm_paths\n",
    "        self.transforms = transforms\n",
    "\n",
    "    def load_dcm(self, dcm: FileDataset):\n",
    "        return {\n",
    "            \"img\": dcm.pixel_array / 255,\n",
    "            \"age\": dcm.PatientAge,\n",
    "            \"sex\": dcm.PatientSex,\n",
    "            \"view_position\": dcm.ViewPosition,\n",
    "        }\n",
    "\n",
    "    def __getitem__(self, idx: int):\n",
    "        \"\"\"Return a dict to be used by the data loader\"\"\"\n",
    "        fn = self.fns[idx]\n",
    "        dcm = pydicom.dcmread(fn)\n",
    "        dcm_data = self.load_dcm(dcm)\n",
    "        dcm_data[\"id\"] = os.path.basename(os.path.splitext(fn)[0])\n",
    "\n",
    "        if self.transforms:\n",
    "            transformed = self.transforms(\n",
    "                image=dcm_data[\"img\"]\n",
    "            )\n",
    "            dcm_data[\"img\"] = transformed[\"image\"]\n",
    "        dcm_data[\"img\"] = np.expand_dims(dcm_data[\"img\"], axis=0).astype(np.float32)\n",
    "        return self.to_tensors(dcm_data)\n",
    "\n",
    "    def to_tensors(self, data: Dict[str, Any]):\n",
    "        view = 1. if data[\"view_position\"] == \"PA\" else 0.\n",
    "        age = float(data[\"age\"])\n",
    "        sex = 1. if data[\"sex\"] == \"F\" else 0.\n",
    "        \n",
    "        return {\n",
    "            \"id\": data[\"id\"],\n",
    "            \"age\": torch.as_tensor(age),\n",
    "            \"sex\": torch.as_tensor(sex),\n",
    "            \"pos\": torch.as_tensor(view),\n",
    "            \"img\": torch.as_tensor(data[\"img\"]),\n",
    "        }\n",
    "\n",
    "    def __len__(self):\n",
    "        return len(self.fns)"
   ]
  },
  {
   "cell_type": "code",
   "execution_count": 23,
   "id": "28d94fc4",
   "metadata": {},
   "outputs": [],
   "source": [
    "test_ds = TestDataset(test_fns, transforms=VALID_AUGS)\n",
    "test_loader = DataLoader(test_ds, batch_size=8, num_workers=0)"
   ]
  },
  {
   "cell_type": "code",
   "execution_count": 25,
   "id": "543257a4",
   "metadata": {},
   "outputs": [],
   "source": [
    "model= model.cpu()"
   ]
  },
  {
   "cell_type": "code",
   "execution_count": 27,
   "id": "acea57b7",
   "metadata": {},
   "outputs": [
    {
     "data": {
      "application/vnd.jupyter.widget-view+json": {
       "model_id": "e9eaab7c07c543379dd517bd5957ff02",
       "version_major": 2,
       "version_minor": 0
      },
      "text/plain": [
       "  0%|          | 0/401 [00:00<?, ?it/s]"
      ]
     },
     "metadata": {},
     "output_type": "display_data"
    }
   ],
   "source": [
    "from tqdm.notebook import tqdm\n",
    "\n",
    "res_dict={}\n",
    "\n",
    "for batch in tqdm(test_loader):\n",
    "    model.eval()\n",
    "    preds = model(batch['img'])\n",
    "    \n",
    "    for uid, pred in zip(batch['id'], preds):\n",
    "        mask = (pred>THRESHOLD).float()[0]\n",
    "        rle = mask2rle(mask, 256, 256)\n",
    "        if rle == \"\":\n",
    "            res_dict[uid] = -1\n",
    "        else:\n",
    "            res_dict[uid] = rle"
   ]
  },
  {
   "cell_type": "code",
   "execution_count": 30,
   "id": "ed8ca2a6",
   "metadata": {},
   "outputs": [],
   "source": [
    "with open(f\"{model_name}.csv\", \"w\") as f:\n",
    "    f.write(f\"ImageId,EncodedPixels\\n\")    \n",
    "    for uid, rle in res_dict.items():\n",
    "        f.write(f\"{uid},{rle}\\n\")"
   ]
  }
 ],
 "metadata": {
  "kernelspec": {
   "display_name": "Python 3 (ipykernel)",
   "language": "python",
   "name": "python3"
  },
  "language_info": {
   "codemirror_mode": {
    "name": "ipython",
    "version": 3
   },
   "file_extension": ".py",
   "mimetype": "text/x-python",
   "name": "python",
   "nbconvert_exporter": "python",
   "pygments_lexer": "ipython3",
   "version": "3.9.6"
  }
 },
 "nbformat": 4,
 "nbformat_minor": 5
}
