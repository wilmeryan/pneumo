{
 "cells": [
  {
   "cell_type": "code",
   "execution_count": 1,
   "id": "f5ab3194",
   "metadata": {},
   "outputs": [],
   "source": [
    "%load_ext autoreload\n",
    "%autoreload 2"
   ]
  },
  {
   "cell_type": "code",
   "execution_count": 2,
   "id": "99486a22",
   "metadata": {},
   "outputs": [],
   "source": [
    "from pneumo import dataset\n",
    "from torch.utils.data import DataLoader\n",
    "import os\n",
    "import glob\n",
    "import albumentations as A"
   ]
  },
  {
   "cell_type": "code",
   "execution_count": 3,
   "id": "97862147",
   "metadata": {},
   "outputs": [],
   "source": [
    "IMG_PATH = \"/home/wilmer-linux/Projects/data/pneumo_s1/dicom-images-train/\"\n",
    "LABEL_PATH = os.path.join(IMG_PATH, '../train-rle.csv')\n",
    "\n",
    "fns = glob.glob(os.path.join(IMG_PATH, \"**/*.dcm\"), recursive=True)"
   ]
  },
  {
   "cell_type": "code",
   "execution_count": 4,
   "id": "d1910bb7",
   "metadata": {},
   "outputs": [
    {
     "name": "stdout",
     "output_type": "stream",
     "text": [
      "10880 1209\n"
     ]
    }
   ],
   "source": [
    "from sklearn.model_selection import train_test_split\n",
    "\n",
    "train_fns, valid_fns = train_test_split(fns, train_size=0.9, random_state=42, shuffle=True)\n",
    "print(len(train_fns), len(valid_fns))"
   ]
  },
  {
   "cell_type": "code",
   "execution_count": 5,
   "id": "b770179c",
   "metadata": {},
   "outputs": [],
   "source": [
    "from albumentations import (\n",
    "    Compose, HorizontalFlip,\n",
    "    RandomBrightness, RandomContrast, RandomGamma,OneOf,\n",
    "    ShiftScaleRotate,GridDistortion, ElasticTransform, JpegCompression, HueSaturationValue,\n",
    "    RandomBrightness, RandomContrast, Blur, MotionBlur, MedianBlur, GaussNoise,CenterCrop,\n",
    "    IAAAdditiveGaussianNoise,GaussNoise,OpticalDistortion,RandomSizedCrop, Resize, RandomBrightnessContrast, ToFloat\n",
    ")\n",
    "\n",
    "IMG_SIZE= (256, 256)\n",
    "\n",
    "TRAIN_AUGS = Compose([\n",
    "    ToFloat(max_value=1),\n",
    "    Resize(IMG_SIZE[0], IMG_SIZE[1]),\n",
    "    HorizontalFlip(p=0.5),\n",
    "    ShiftScaleRotate(p=0.2),\n",
    "    OneOf([\n",
    "        RandomGamma(),\n",
    "        RandomBrightnessContrast(),\n",
    "         ], p=0.2),\n",
    "    OneOf([\n",
    "        ElasticTransform(alpha=120, sigma=120 * 0.05, alpha_affine=120 * 0.03),\n",
    "        GridDistortion(),\n",
    "        OpticalDistortion(distort_limit=2, shift_limit=0.5),\n",
    "        ], p=0.2),\n",
    "],p=1)\n",
    "\n",
    "VALID_AUGS = Compose([\n",
    "    ToFloat(max_value=1),\n",
    "    Resize(IMG_SIZE[0], IMG_SIZE[1])\n",
    "])"
   ]
  },
  {
   "cell_type": "code",
   "execution_count": 6,
   "id": "a679d54b",
   "metadata": {},
   "outputs": [],
   "source": [
    "bs = 4\n",
    "\n",
    "train_ds = dataset.PneumoDataset(LABEL_PATH, train_fns, transforms=TRAIN_AUGS)\n",
    "valid_ds = dataset.PneumoDataset(LABEL_PATH, valid_fns, transforms=VALID_AUGS)\n",
    "\n",
    "train_loader = DataLoader(train_ds, batch_size=bs, shuffle=True, num_workers=2, multiprocessing_context='spawn')\n",
    "valid_loader = DataLoader(valid_ds, batch_size=bs, shuffle=False, num_workers=0)"
   ]
  },
  {
   "cell_type": "code",
   "execution_count": 7,
   "id": "afd41663",
   "metadata": {},
   "outputs": [
    {
     "name": "stderr",
     "output_type": "stream",
     "text": [
      "GPU available: True, used: True\n",
      "TPU available: False, using: 0 TPU cores\n",
      "IPU available: False, using: 0 IPUs\n"
     ]
    }
   ],
   "source": [
    "from pneumo.models import UNetLightning\n",
    "from pytorch_lightning import Trainer\n",
    "from pytorch_lightning.callbacks.early_stopping import EarlyStopping\n",
    "from pytorch_lightning.loggers import WandbLogger\n",
    "\n",
    "unet = UNetLightning(learning_rate=1e-3).cuda()\n",
    "\n",
    "wandb_logger = WandbLogger()\n",
    "es = EarlyStopping(monitor=\"train_loss\",min_delta=0.01, patience=3)\n",
    "\n",
    "trainer = Trainer(\n",
    "    gpus=1,\n",
    "    auto_select_gpus=True, \n",
    "    amp_backend=\"apex\", amp_level=\"02\", \n",
    "    logger=wandb_logger, \n",
    "    callbacks=[es]\n",
    ")"
   ]
  },
  {
   "cell_type": "code",
   "execution_count": null,
   "id": "13185a22",
   "metadata": {
    "scrolled": true
   },
   "outputs": [
    {
     "name": "stderr",
     "output_type": "stream",
     "text": [
      "/home/wilmer-linux/miniconda3/envs/faceai-nada/lib/python3.9/site-packages/pytorch_lightning/trainer/trainer.py:730: LightningDeprecationWarning: `trainer.fit(train_dataloader)` is deprecated in v1.4 and will be removed in v1.6. Use `trainer.fit(train_dataloaders)` instead. HINT: added 's'\n",
      "  rank_zero_deprecation(\n",
      "LOCAL_RANK: 0 - CUDA_VISIBLE_DEVICES: [0]\n",
      "\u001b[34m\u001b[1mwandb\u001b[0m: Currently logged in as: \u001b[33mwilmer\u001b[0m (use `wandb login --relogin` to force relogin)\n"
     ]
    },
    {
     "data": {
      "text/html": [
       "\n",
       "                    Syncing run <strong><a href=\"https://wandb.ai/wilmer/pneumo-notebooks/runs/2s2h0rbb\" target=\"_blank\">worthy-capybara-13</a></strong> to <a href=\"https://wandb.ai/wilmer/pneumo-notebooks\" target=\"_blank\">Weights & Biases</a> (<a href=\"https://docs.wandb.com/integrations/jupyter.html\" target=\"_blank\">docs</a>).<br/>\n",
       "\n",
       "                "
      ],
      "text/plain": [
       "<IPython.core.display.HTML object>"
      ]
     },
     "metadata": {},
     "output_type": "display_data"
    },
    {
     "name": "stderr",
     "output_type": "stream",
     "text": [
      "\n",
      "  | Name              | Type                | Params\n",
      "----------------------------------------------------------\n",
      "0 | encoder           | EfficientNetEncoder | 10.7 M\n",
      "1 | decoder           | UnetDecoder         | 2.5 M \n",
      "2 | segmentation_head | Sequential          | 1.2 K \n",
      "----------------------------------------------------------\n",
      "13.2 M    Trainable params\n",
      "0         Non-trainable params\n",
      "13.2 M    Total params\n",
      "52.638    Total estimated model params size (MB)\n"
     ]
    },
    {
     "data": {
      "application/vnd.jupyter.widget-view+json": {
       "model_id": "",
       "version_major": 2,
       "version_minor": 0
      },
      "text/plain": [
       "Validation sanity check: 0it [00:00, ?it/s]"
      ]
     },
     "metadata": {},
     "output_type": "display_data"
    },
    {
     "name": "stderr",
     "output_type": "stream",
     "text": [
      "/home/wilmer-linux/miniconda3/envs/faceai-nada/lib/python3.9/site-packages/pytorch_lightning/trainer/data_loading.py:110: UserWarning: The dataloader, val_dataloader 0, does not have many workers which may be a bottleneck. Consider increasing the value of the `num_workers` argument` (try 6 which is the number of cpus on this machine) in the `DataLoader` init to improve performance.\n",
      "  rank_zero_warn(\n",
      "/home/wilmer-linux/miniconda3/envs/faceai-nada/lib/python3.9/site-packages/torch/nn/functional.py:1805: UserWarning: nn.functional.sigmoid is deprecated. Use torch.sigmoid instead.\n",
      "  warnings.warn(\"nn.functional.sigmoid is deprecated. Use torch.sigmoid instead.\")\n",
      "/home/wilmer-linux/miniconda3/envs/faceai-nada/lib/python3.9/site-packages/pytorch_lightning/trainer/data_loading.py:110: UserWarning: The dataloader, train_dataloader, does not have many workers which may be a bottleneck. Consider increasing the value of the `num_workers` argument` (try 6 which is the number of cpus on this machine) in the `DataLoader` init to improve performance.\n",
      "  rank_zero_warn(\n"
     ]
    },
    {
     "data": {
      "application/vnd.jupyter.widget-view+json": {
       "model_id": "13933b6c3498412dbd2cfd3f0d5b3561",
       "version_major": 2,
       "version_minor": 0
      },
      "text/plain": [
       "Training: 0it [00:00, ?it/s]"
      ]
     },
     "metadata": {},
     "output_type": "display_data"
    }
   ],
   "source": [
    "ckpt_path = \"/home/wilmer-linux/Projects/code/pneumo/ckpt/\"\n",
    "\n",
    "trainer.fit(unet, train_dataloader=train_loader, val_dataloaders=valid_loader)"
   ]
  },
  {
   "cell_type": "code",
   "execution_count": null,
   "id": "5702d0da",
   "metadata": {},
   "outputs": [],
   "source": []
  }
 ],
 "metadata": {
  "kernelspec": {
   "display_name": "Python 3 (ipykernel)",
   "language": "python",
   "name": "python3"
  },
  "language_info": {
   "codemirror_mode": {
    "name": "ipython",
    "version": 3
   },
   "file_extension": ".py",
   "mimetype": "text/x-python",
   "name": "python",
   "nbconvert_exporter": "python",
   "pygments_lexer": "ipython3",
   "version": "3.9.6"
  }
 },
 "nbformat": 4,
 "nbformat_minor": 5
}
