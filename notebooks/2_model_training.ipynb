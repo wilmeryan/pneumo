{
 "cells": [
  {
   "cell_type": "code",
   "execution_count": 1,
   "id": "f5ab3194",
   "metadata": {},
   "outputs": [],
   "source": [
    "%load_ext autoreload\n",
    "%autoreload 2"
   ]
  },
  {
   "cell_type": "code",
   "execution_count": 2,
   "id": "99486a22",
   "metadata": {},
   "outputs": [],
   "source": [
    "from pneumo import dataset\n",
    "from torch.utils.data import DataLoader\n",
    "import os\n",
    "import glob\n",
    "import albumentations as A"
   ]
  },
  {
   "cell_type": "code",
   "execution_count": 3,
   "id": "97862147",
   "metadata": {},
   "outputs": [],
   "source": [
    "IMG_PATH = \"/home/wilmer-linux/Projects/data/pneumo_s1/\"\n",
    "LABEL_PATH = os.path.join(IMG_PATH, '../stage_2_train.csv')\n",
    "\n",
    "fns = glob.glob(os.path.join(IMG_PATH, \"**/*.dcm\"), recursive=True)"
   ]
  },
  {
   "cell_type": "code",
   "execution_count": 4,
   "id": "d1910bb7",
   "metadata": {},
   "outputs": [
    {
     "name": "stdout",
     "output_type": "stream",
     "text": [
      "12235 3059\n"
     ]
    }
   ],
   "source": [
    "from sklearn.model_selection import train_test_split\n",
    "\n",
    "train_fns, valid_fns = train_test_split(fns, train_size=0.8, random_state=42, shuffle=True)\n",
    "print(len(train_fns), len(valid_fns))"
   ]
  },
  {
   "cell_type": "code",
   "execution_count": 5,
   "id": "bfaf228c",
   "metadata": {},
   "outputs": [],
   "source": [
    "config = {\n",
    "    \"lr\" : 1e-3,\n",
    "    \"batch_size\": 16,\n",
    "}"
   ]
  },
  {
   "cell_type": "code",
   "execution_count": 6,
   "id": "b770179c",
   "metadata": {},
   "outputs": [],
   "source": [
    "from albumentations import (\n",
    "    Compose, HorizontalFlip,\n",
    "    RandomBrightness, RandomContrast, RandomGamma,OneOf,\n",
    "    ShiftScaleRotate,GridDistortion, ElasticTransform, JpegCompression, HueSaturationValue,\n",
    "    RandomBrightness, RandomContrast, Blur, MotionBlur, MedianBlur, GaussNoise,CenterCrop,\n",
    "    IAAAdditiveGaussianNoise,GaussNoise,OpticalDistortion,RandomSizedCrop, Resize, RandomBrightnessContrast, ToFloat\n",
    ")\n",
    "\n",
    "IMG_SIZE= (256, 256)\n",
    "\n",
    "TRAIN_AUGS = Compose([\n",
    "    ToFloat(max_value=1),\n",
    "    Resize(IMG_SIZE[0], IMG_SIZE[1]),\n",
    "    HorizontalFlip(p=0.3),\n",
    "    ShiftScaleRotate(p=0.1, rotate_limit=30),\n",
    "    OneOf([\n",
    "        RandomGamma((90,110)),\n",
    "        RandomBrightnessContrast(0.1, 0.1),\n",
    "         ], p=0.2),\n",
    "],p=1)\n",
    "\n",
    "VALID_AUGS = Compose([\n",
    "    ToFloat(max_value=1),\n",
    "    Resize(IMG_SIZE[0], IMG_SIZE[1])\n",
    "])"
   ]
  },
  {
   "cell_type": "code",
   "execution_count": 7,
   "id": "a679d54b",
   "metadata": {},
   "outputs": [],
   "source": [
    "train_ds = dataset.PneumoDataset(LABEL_PATH, train_fns, transforms=TRAIN_AUGS)\n",
    "valid_ds = dataset.PneumoDataset(LABEL_PATH, valid_fns, transforms=VALID_AUGS)\n",
    "\n",
    "train_loader = DataLoader(train_ds, batch_size=config[\"batch_size\"], shuffle=True, num_workers=3, multiprocessing_context='spawn')\n",
    "valid_loader = DataLoader(valid_ds, batch_size=config[\"batch_size\"], shuffle=False, num_workers=0)"
   ]
  },
  {
   "cell_type": "code",
   "execution_count": 8,
   "id": "afd41663",
   "metadata": {
    "scrolled": false
   },
   "outputs": [
    {
     "name": "stderr",
     "output_type": "stream",
     "text": [
      "Using 16bit native Automatic Mixed Precision (AMP)\n",
      "GPU available: True, used: True\n",
      "TPU available: False, using: 0 TPU cores\n",
      "IPU available: False, using: 0 IPUs\n"
     ]
    }
   ],
   "source": [
    "from pneumo.models import UNetLightning, MetaUNetLightning\n",
    "from pytorch_lightning import Trainer\n",
    "from pytorch_lightning.callbacks.early_stopping import EarlyStopping\n",
    "from pytorch_lightning.callbacks.model_checkpoint import ModelCheckpoint\n",
    "from pytorch_lightning.loggers import WandbLogger\n",
    "\n",
    "model_name = \"unet++_effb2_dropout0_mixedwslogdiceloss_nobce_metaencoder\"\n",
    "ckpt_path = \"/home/wilmer-linux/Projects/code/pneumo/ckpt/\"\n",
    "\n",
    "unet = MetaUNetLightning(learning_rate=config[\"lr\"], smoothing=0.1).cuda()\n",
    "wandb_logger = WandbLogger(project=\"pnuemo_2\", name=model_name)\n",
    "es = EarlyStopping(monitor=\"valid_loss\", min_delta=0.001, patience=20)\n",
    "checkpoint = ModelCheckpoint(dirpath=ckpt_path, filename=model_name, monitor=\"valid_dice_coeff\", save_top_k=1)\n",
    "\n",
    "trainer = Trainer(\n",
    "    gpus=1,\n",
    "    auto_select_gpus=True, \n",
    "    precision=16,\n",
    "    logger=wandb_logger,\n",
    "    callbacks=[es, checkpoint]\n",
    ")"
   ]
  },
  {
   "cell_type": "code",
   "execution_count": null,
   "id": "13185a22",
   "metadata": {
    "scrolled": true
   },
   "outputs": [
    {
     "name": "stderr",
     "output_type": "stream",
     "text": [
      "/home/wilmer-linux/miniconda3/envs/faceai-nada/lib/python3.9/site-packages/pytorch_lightning/trainer/trainer.py:730: LightningDeprecationWarning: `trainer.fit(train_dataloader)` is deprecated in v1.4 and will be removed in v1.6. Use `trainer.fit(train_dataloaders)` instead. HINT: added 's'\n",
      "  rank_zero_deprecation(\n",
      "LOCAL_RANK: 0 - CUDA_VISIBLE_DEVICES: [0]\n",
      "\u001b[34m\u001b[1mwandb\u001b[0m: Currently logged in as: \u001b[33mwilmer\u001b[0m (use `wandb login --relogin` to force relogin)\n"
     ]
    },
    {
     "data": {
      "text/html": [
       "\n",
       "                    Syncing run <strong><a href=\"https://wandb.ai/wilmer/pnuemo_2/runs/1i0s4xtw\" target=\"_blank\">unet++_effb2_dropout0_mixedwslogdiceloss_nobce_metaencoder</a></strong> to <a href=\"https://wandb.ai/wilmer/pnuemo_2\" target=\"_blank\">Weights & Biases</a> (<a href=\"https://docs.wandb.com/integrations/jupyter.html\" target=\"_blank\">docs</a>).<br/>\n",
       "\n",
       "                "
      ],
      "text/plain": [
       "<IPython.core.display.HTML object>"
      ]
     },
     "metadata": {},
     "output_type": "display_data"
    },
    {
     "name": "stderr",
     "output_type": "stream",
     "text": [
      "\n",
      "  | Name         | Type                | Params\n",
      "-----------------------------------------------------\n",
      "0 | encoder      | EfficientNetEncoder | 7.7 M \n",
      "1 | decoder      | UnetPlusPlusDecoder | 2.7 M \n",
      "2 | meta_encoder | MetaEncoder         | 57    \n",
      "3 | seg_head     | Sequential          | 625   \n",
      "-----------------------------------------------------\n",
      "10.4 M    Trainable params\n",
      "0         Non-trainable params\n",
      "10.4 M    Total params\n",
      "20.803    Total estimated model params size (MB)\n",
      "/home/wilmer-linux/miniconda3/envs/faceai-nada/lib/python3.9/site-packages/pytorch_lightning/callbacks/model_checkpoint.py:617: UserWarning: Checkpoint directory /home/wilmer-linux/Projects/code/pneumo/ckpt exists and is not empty.\n",
      "  rank_zero_warn(f\"Checkpoint directory {dirpath} exists and is not empty.\")\n"
     ]
    },
    {
     "data": {
      "application/vnd.jupyter.widget-view+json": {
       "model_id": "",
       "version_major": 2,
       "version_minor": 0
      },
      "text/plain": [
       "Validation sanity check: 0it [00:00, ?it/s]"
      ]
     },
     "metadata": {},
     "output_type": "display_data"
    },
    {
     "name": "stderr",
     "output_type": "stream",
     "text": [
      "/home/wilmer-linux/miniconda3/envs/faceai-nada/lib/python3.9/site-packages/pytorch_lightning/trainer/data_loading.py:110: UserWarning: The dataloader, val_dataloader 0, does not have many workers which may be a bottleneck. Consider increasing the value of the `num_workers` argument` (try 6 which is the number of cpus on this machine) in the `DataLoader` init to improve performance.\n",
      "  rank_zero_warn(\n"
     ]
    },
    {
     "data": {
      "application/vnd.jupyter.widget-view+json": {
       "model_id": "6f35185a891e40b3a33d666da394ab19",
       "version_major": 2,
       "version_minor": 0
      },
      "text/plain": [
       "Training: 0it [00:00, ?it/s]"
      ]
     },
     "metadata": {},
     "output_type": "display_data"
    }
   ],
   "source": [
    "trainer.fit(unet, train_dataloader=train_loader, val_dataloaders=valid_loader)"
   ]
  },
  {
   "cell_type": "code",
   "execution_count": null,
   "id": "c3ce7bc5",
   "metadata": {},
   "outputs": [],
   "source": [
    "# optimize threshold for dice coeff"
   ]
  }
 ],
 "metadata": {
  "kernelspec": {
   "display_name": "Python 3 (ipykernel)",
   "language": "python",
   "name": "python3"
  },
  "language_info": {
   "codemirror_mode": {
    "name": "ipython",
    "version": 3
   },
   "file_extension": ".py",
   "mimetype": "text/x-python",
   "name": "python",
   "nbconvert_exporter": "python",
   "pygments_lexer": "ipython3",
   "version": "3.9.6"
  }
 },
 "nbformat": 4,
 "nbformat_minor": 5
}
