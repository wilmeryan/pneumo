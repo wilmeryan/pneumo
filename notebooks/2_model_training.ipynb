{
 "cells": [
  {
   "cell_type": "code",
   "execution_count": 1,
   "id": "f5ab3194",
   "metadata": {},
   "outputs": [],
   "source": [
    "%load_ext autoreload\n",
    "%autoreload 2"
   ]
  },
  {
   "cell_type": "code",
   "execution_count": 2,
   "id": "99486a22",
   "metadata": {},
   "outputs": [],
   "source": [
    "from pneumo import dataset\n",
    "import os\n",
    "import glob\n"
   ]
  },
  {
   "cell_type": "code",
   "execution_count": 3,
   "id": "97862147",
   "metadata": {},
   "outputs": [],
   "source": [
    "IMG_PATH = \"/home/wilmer-linux/Projects/data/pneumo_s1/dicom-images-train/\"\n",
    "LABEL_PATH = os.path.join(IMG_PATH, '../train-rle.csv')\n",
    "\n",
    "fns = glob.glob(os.path.join(IMG_PATH, \"**/*.dcm\"), recursive=True)\n",
    "\n",
    "ds = dataset.PneumoDataset(LABEL_PATH, fns)"
   ]
  },
  {
   "cell_type": "code",
   "execution_count": 7,
   "id": "82f177b3",
   "metadata": {},
   "outputs": [],
   "source": [
    "from torch.utils.data import DataLoader"
   ]
  },
  {
   "cell_type": "code",
   "execution_count": 10,
   "id": "7d723364",
   "metadata": {},
   "outputs": [],
   "source": [
    "bs = 32\n",
    "\n",
    "loader = DataLoader(ds, batch_size=32, shuffle=True, num_workers=4)"
   ]
  },
  {
   "cell_type": "code",
   "execution_count": 17,
   "id": "bc64935e",
   "metadata": {},
   "outputs": [],
   "source": [
    "batch = next(iter(loader))"
   ]
  },
  {
   "cell_type": "code",
   "execution_count": 19,
   "id": "d389de1f",
   "metadata": {},
   "outputs": [
    {
     "data": {
      "text/plain": [
       "torch.Size([32, 1024, 1024])"
      ]
     },
     "execution_count": 19,
     "metadata": {},
     "output_type": "execute_result"
    }
   ],
   "source": [
    "batch['target'].shape"
   ]
  },
  {
   "cell_type": "code",
   "execution_count": 16,
   "id": "348dca71",
   "metadata": {},
   "outputs": [
    {
     "data": {
      "text/plain": [
       "{'img': array([[219, 216, 216, ...,   6,   4,   1],\n",
       "        [215, 213, 212, ...,   6,   4,   1],\n",
       "        [213, 210, 210, ...,   6,   4,   1],\n",
       "        ...,\n",
       "        [216, 216, 215, ...,  15,   8,   0],\n",
       "        [217, 216, 215, ...,  17,  10,   1],\n",
       "        [217, 215, 214, ...,  18,  11,   2]], dtype=uint8),\n",
       " 'age': '67',\n",
       " 'sex': 'M',\n",
       " 'view_position': 'PA',\n",
       " 'target': array([[0., 0., 0., ..., 0., 0., 0.],\n",
       "        [0., 0., 0., ..., 0., 0., 0.],\n",
       "        [0., 0., 0., ..., 0., 0., 0.],\n",
       "        ...,\n",
       "        [0., 0., 0., ..., 0., 0., 0.],\n",
       "        [0., 0., 0., ..., 0., 0., 0.],\n",
       "        [0., 0., 0., ..., 0., 0., 0.]])}"
      ]
     },
     "execution_count": 16,
     "metadata": {},
     "output_type": "execute_result"
    }
   ],
   "source": [
    "ds[0]"
   ]
  }
 ],
 "metadata": {
  "kernelspec": {
   "display_name": "Python 3 (ipykernel)",
   "language": "python",
   "name": "python3"
  },
  "language_info": {
   "codemirror_mode": {
    "name": "ipython",
    "version": 3
   },
   "file_extension": ".py",
   "mimetype": "text/x-python",
   "name": "python",
   "nbconvert_exporter": "python",
   "pygments_lexer": "ipython3",
   "version": "3.9.6"
  }
 },
 "nbformat": 4,
 "nbformat_minor": 5
}
